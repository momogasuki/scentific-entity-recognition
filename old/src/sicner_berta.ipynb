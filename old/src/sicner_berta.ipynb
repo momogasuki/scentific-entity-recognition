{
 "cells": [
  {
   "cell_type": "code",
   "execution_count": 1,
   "metadata": {},
   "outputs": [
    {
     "name": "stderr",
     "output_type": "stream",
     "text": [
      "c:\\Softwares\\Research\\envs\\sci_rec\\lib\\site-packages\\tqdm\\auto.py:22: TqdmWarning: IProgress not found. Please update jupyter and ipywidgets. See https://ipywidgets.readthedocs.io/en/stable/user_install.html\n",
      "  from .autonotebook import tqdm as notebook_tqdm\n"
     ]
    },
    {
     "name": "stdout",
     "output_type": "stream",
     "text": [
      "The conll file is probably using spaces to separate tokens and ner tags. Trying to parse using spaces.\n"
     ]
    }
   ],
   "source": [
    "from ConllDataLoader import conll_dataset\n",
    "data = conll_dataset('../data/train_post.conll')\n",
    "\n",
    "texts, tags = data[\"tokens\"], data[\"ner_tags\"]"
   ]
  },
  {
   "cell_type": "code",
   "execution_count": 2,
   "metadata": {},
   "outputs": [
    {
     "data": {
      "text/plain": [
       "dict_keys([0, 1, 2, 3, 4, 5, 6, 7, 8, 9, 10, 11, 12, 13, 14])"
      ]
     },
     "execution_count": 2,
     "metadata": {},
     "output_type": "execute_result"
    }
   ],
   "source": [
    "data.id2tag.keys()"
   ]
  },
  {
   "cell_type": "code",
   "execution_count": 3,
   "metadata": {},
   "outputs": [],
   "source": [
    "# from sklearn.model_selection import train_test_split\n",
    "# train_texts, val_texts, train_tags, val_tags = train_test_split(texts, tags, test_size=.4)"
   ]
  },
  {
   "cell_type": "code",
   "execution_count": 4,
   "metadata": {},
   "outputs": [],
   "source": [
    "# def write_split(file_name, data_split, tag_split, id2tag):\n",
    "#     with open(file_name, 'wt', encoding='utf-8') as w:\n",
    "#         for i, sentence in enumerate(data_split):\n",
    "#             for j, word in enumerate(sentence):\n",
    "#                 #print(word+\" \"+id2tag[tag_split[i][j]]+\"\\n\")\n",
    "#                 w.write(word+\" \"+id2tag[tag_split[i][j]]+\"\\n\")\n",
    "#             w.write(\"\\n\")\n",
    "\n",
    "# write_split(\"../data/train.conll\", train_texts, train_tags, data.id2tag)\n",
    "# write_split(\"../data/test.conll\", val_texts, val_tags, data.id2tag)"
   ]
  },
  {
   "cell_type": "code",
   "execution_count": 5,
   "metadata": {},
   "outputs": [
    {
     "name": "stdout",
     "output_type": "stream",
     "text": [
      "The conll file is probably using spaces to separate tokens and ner tags. Trying to parse using spaces.\n",
      "The conll file is probably using spaces to separate tokens and ner tags. Trying to parse using spaces.\n"
     ]
    }
   ],
   "source": [
    "#Start from here!\n",
    "from ConllDataLoader import conll_dataset\n",
    "\n",
    "train_data_split = conll_dataset('../data/train.conll')\n",
    "train_texts, train_tags = train_data_split[\"tokens\"], train_data_split[\"ner_tags\"]\n",
    "\n",
    "val_data_split = conll_dataset('../data/test.conll')\n",
    "val_texts, val_tags = val_data_split[\"tokens\"], val_data_split[\"ner_tags\"]"
   ]
  },
  {
   "cell_type": "code",
   "execution_count": 6,
   "metadata": {},
   "outputs": [],
   "source": [
    "# def write_test(file_name, data_split):\n",
    "#     with open(file_name, 'wt', encoding='utf-8') as w:\n",
    "#         for i, sentence in enumerate(data_split):\n",
    "#             con_sentence = \" \".join(sentence)+\"\\n\"\n",
    "#             w.write(con_sentence)\n",
    "\n",
    "# write_test(\"../data/test.txt\", val_texts)"
   ]
  },
  {
   "cell_type": "code",
   "execution_count": 7,
   "metadata": {},
   "outputs": [
    {
     "data": {
      "text/plain": [
       "(846, 565)"
      ]
     },
     "execution_count": 7,
     "metadata": {},
     "output_type": "execute_result"
    }
   ],
   "source": [
    "len(train_texts), len(val_texts)"
   ]
  },
  {
   "cell_type": "code",
   "execution_count": 8,
   "metadata": {},
   "outputs": [
    {
     "data": {
      "text/plain": [
       "{'B-DatasetName',\n",
       " 'B-HyperparameterName',\n",
       " 'B-HyperparameterValue',\n",
       " 'B-MethodName',\n",
       " 'B-MetricName',\n",
       " 'B-MetricValue',\n",
       " 'B-TaskName',\n",
       " 'I-DatasetName',\n",
       " 'I-HyperparameterName',\n",
       " 'I-HyperparameterValue',\n",
       " 'I-MethodName',\n",
       " 'I-MetricName',\n",
       " 'I-MetricValue',\n",
       " 'I-TaskName',\n",
       " 'O'}"
      ]
     },
     "execution_count": 8,
     "metadata": {},
     "output_type": "execute_result"
    }
   ],
   "source": [
    "#unique_tags = set(tag for doc in tags for tag in doc)\n",
    "tag2id = data.tag2id#{tag: id for id, tag in enumerate(unique_tags)}\n",
    "id2tag = data.id2tag#{id: tag for tag, id in tag2id.items()}\n",
    "unique_tags = set(tag2id.keys())\n",
    "unique_tags"
   ]
  },
  {
   "cell_type": "code",
   "execution_count": 9,
   "metadata": {},
   "outputs": [],
   "source": [
    "from transformers import AutoTokenizer\n",
    "tokenizer = AutoTokenizer.from_pretrained(\"KISTI-AI/scideberta-cs\", add_prefix_space=True)\n",
    "# train_encodings = tokenizer(train_texts, is_split_into_words=True, truncation=True)\n",
    "# val_encodings = tokenizer(val_texts, is_split_into_words=True, truncation=True)\n",
    "# tokenizer.is_fast"
   ]
  },
  {
   "cell_type": "code",
   "execution_count": 10,
   "metadata": {},
   "outputs": [],
   "source": [
    "def align_labels_with_tokens(labels, word_ids):\n",
    "    new_labels = []\n",
    "    current_word = None\n",
    "    for word_id in word_ids:\n",
    "        if word_id != current_word:\n",
    "            # Start of a new word!\n",
    "            current_word = word_id\n",
    "            label = -100 if word_id is None else labels[word_id]\n",
    "            new_labels.append(label)\n",
    "        elif word_id is None:\n",
    "            # Special token\n",
    "            new_labels.append(-100)\n",
    "        else:\n",
    "            # Same word as previous token\n",
    "            label = labels[word_id]\n",
    "            # If the label is B-XXX we change it to I-XXX\n",
    "            if label % 2 == 1:\n",
    "                label += 1\n",
    "            new_labels.append(label)\n",
    "\n",
    "    return new_labels"
   ]
  },
  {
   "cell_type": "code",
   "execution_count": 11,
   "metadata": {},
   "outputs": [],
   "source": [
    "def tokenize_and_align_labels(tokens, ner_tags, tokenizer):\n",
    "    tokenized_inputs = tokenizer(\n",
    "        tokens, truncation=True, is_split_into_words=True,\n",
    "    )\n",
    "    all_labels = ner_tags\n",
    "    new_labels = []\n",
    "    for i, labels in enumerate(all_labels):\n",
    "        word_ids = tokenized_inputs.word_ids(i)\n",
    "        new_labels.append(align_labels_with_tokens(labels, word_ids))\n",
    "\n",
    "    #tokenized_inputs[\"labels\"] = new_labels\n",
    "    return tokenized_inputs, new_labels"
   ]
  },
  {
   "cell_type": "code",
   "execution_count": 12,
   "metadata": {},
   "outputs": [],
   "source": [
    "import torch\n",
    "\n",
    "class TokenizedDataset(torch.utils.data.Dataset):\n",
    "    def __init__(self, tokenized_inputs, new_labels):\n",
    "        self.encodings = tokenized_inputs\n",
    "        self.labels = new_labels\n",
    "\n",
    "    def __getitem__(self, idx):\n",
    "        item = {key: val[idx] for key, val in self.encodings.items()}\n",
    "        item['labels'] = self.labels[idx]\n",
    "        return item\n",
    "\n",
    "    def __len__(self):\n",
    "        return len(self.labels)"
   ]
  },
  {
   "cell_type": "code",
   "execution_count": 13,
   "metadata": {},
   "outputs": [],
   "source": [
    "train_encodings, train_encoded_labels = tokenize_and_align_labels(train_texts, train_tags,tokenizer)\n",
    "train_dataset = TokenizedDataset(train_encodings, train_encoded_labels)\n",
    "val_encodings, val_encoded_labels = tokenize_and_align_labels(val_texts, val_tags,tokenizer)\n",
    "val_dataset = TokenizedDataset(val_encodings, val_encoded_labels)"
   ]
  },
  {
   "cell_type": "code",
   "execution_count": 14,
   "metadata": {},
   "outputs": [
    {
     "data": {
      "text/plain": [
       "['O',\n",
       " 'B-DatasetName',\n",
       " 'I-DatasetName',\n",
       " 'B-HyperparameterName',\n",
       " 'I-HyperparameterName',\n",
       " 'B-HyperparameterValue',\n",
       " 'I-HyperparameterValue',\n",
       " 'B-MethodName',\n",
       " 'I-MethodName',\n",
       " 'B-MetricName',\n",
       " 'I-MetricName',\n",
       " 'B-MetricValue',\n",
       " 'I-MetricValue',\n",
       " 'B-TaskName',\n",
       " 'I-TaskName']"
      ]
     },
     "execution_count": 14,
     "metadata": {},
     "output_type": "execute_result"
    }
   ],
   "source": [
    "label_names = list(id2tag.values())\n",
    "label_names"
   ]
  },
  {
   "cell_type": "code",
   "execution_count": 15,
   "metadata": {},
   "outputs": [],
   "source": [
    "import numpy as np\n",
    "import evaluate\n",
    "\n",
    "metric = evaluate.load(\"seqeval\")\n",
    "\n",
    "\n",
    "def compute_metrics(eval_preds):\n",
    "    logits, labels = eval_preds\n",
    "    predictions = np.argmax(logits, axis=-1)\n",
    "\n",
    "    # Remove ignored index (special tokens) and convert to labels\n",
    "    true_labels = [[label_names[l] for l in label if l != -100] for label in labels]\n",
    "    true_predictions = [\n",
    "        [label_names[p] for (p, l) in zip(prediction, label) if l != -100]\n",
    "        for prediction, label in zip(predictions, labels)\n",
    "    ]\n",
    "    all_metrics = metric.compute(predictions=true_predictions, references=true_labels)\n",
    "    return {\n",
    "        \"precision\": all_metrics[\"overall_precision\"],\n",
    "        \"recall\": all_metrics[\"overall_recall\"],\n",
    "        \"f1\": all_metrics[\"overall_f1\"],\n",
    "        \"accuracy\": all_metrics[\"overall_accuracy\"],\n",
    "    }"
   ]
  },
  {
   "cell_type": "code",
   "execution_count": 16,
   "metadata": {},
   "outputs": [],
   "source": [
    "from transformers import DataCollatorForTokenClassification\n",
    "\n",
    "data_collator = DataCollatorForTokenClassification(tokenizer=tokenizer)"
   ]
  },
  {
   "cell_type": "code",
   "execution_count": 17,
   "metadata": {},
   "outputs": [
    {
     "name": "stderr",
     "output_type": "stream",
     "text": [
      "Some weights of the model checkpoint at KISTI-AI/scideberta-cs were not used when initializing DebertaForTokenClassification: ['cls.predictions.transform.LayerNorm.bias', 'cls.predictions.transform.LayerNorm.weight', 'cls.predictions.transform.dense.weight', 'cls.predictions.bias', 'cls.predictions.transform.dense.bias', 'cls.predictions.decoder.bias', 'cls.predictions.decoder.weight']\n",
      "- This IS expected if you are initializing DebertaForTokenClassification from the checkpoint of a model trained on another task or with another architecture (e.g. initializing a BertForSequenceClassification model from a BertForPreTraining model).\n",
      "- This IS NOT expected if you are initializing DebertaForTokenClassification from the checkpoint of a model that you expect to be exactly identical (initializing a BertForSequenceClassification model from a BertForSequenceClassification model).\n",
      "Some weights of DebertaForTokenClassification were not initialized from the model checkpoint at KISTI-AI/scideberta-cs and are newly initialized: ['classifier.bias', 'classifier.weight']\n",
      "You should probably TRAIN this model on a down-stream task to be able to use it for predictions and inference.\n"
     ]
    },
    {
     "data": {
      "text/plain": [
       "15"
      ]
     },
     "execution_count": 17,
     "metadata": {},
     "output_type": "execute_result"
    }
   ],
   "source": [
    "from transformers import AutoModelForTokenClassification\n",
    "model = AutoModelForTokenClassification.from_pretrained('KISTI-AI/scideberta-cs', id2label = id2tag, label2id=tag2id,num_labels=len(unique_tags))\n",
    "len(unique_tags)"
   ]
  },
  {
   "cell_type": "code",
   "execution_count": 18,
   "metadata": {},
   "outputs": [
    {
     "name": "stderr",
     "output_type": "stream",
     "text": [
      "c:\\Softwares\\Research\\envs\\sci_rec\\lib\\site-packages\\transformers\\optimization.py:306: FutureWarning: This implementation of AdamW is deprecated and will be removed in a future version. Use the PyTorch implementation torch.optim.AdamW instead, or set `no_deprecation_warning=True` to disable this warning\n",
      "  warnings.warn(\n",
      "***** Running training *****\n",
      "  Num examples = 846\n",
      "  Num Epochs = 3\n",
      "  Instantaneous batch size per device = 2\n",
      "  Total train batch size (w. parallel, distributed & accumulation) = 2\n",
      "  Gradient Accumulation steps = 1\n",
      "  Total optimization steps = 1269\n",
      "  0%|          | 0/1269 [00:00<?, ?it/s]You're using a DebertaTokenizerFast tokenizer. Please note that with a fast tokenizer, using the `__call__` method is faster than using a method to encode the text followed by a call to the `pad` method to get a padded encoding.\n",
      "c:\\Softwares\\Research\\envs\\sci_rec\\lib\\site-packages\\transformers\\models\\deberta\\modeling_deberta.py:679: UserWarning: To copy construct from a tensor, it is recommended to use sourceTensor.clone().detach() or sourceTensor.clone().detach().requires_grad_(True), rather than torch.tensor(sourceTensor).\n",
      "  query_layer = query_layer / torch.tensor(scale, dtype=query_layer.dtype)\n",
      "c:\\Softwares\\Research\\envs\\sci_rec\\lib\\site-packages\\transformers\\models\\deberta\\modeling_deberta.py:745: UserWarning: To copy construct from a tensor, it is recommended to use sourceTensor.clone().detach() or sourceTensor.clone().detach().requires_grad_(True), rather than torch.tensor(sourceTensor).\n",
      "  p2c_att = torch.matmul(key_layer, torch.tensor(pos_query_layer.transpose(-1, -2), dtype=key_layer.dtype))\n",
      " 33%|███▎      | 423/1269 [00:53<01:37,  8.65it/s]***** Running Evaluation *****\n",
      "  Num examples = 565\n",
      "  Batch size = 4\n",
      "                                                  \n",
      " 33%|███▎      | 423/1269 [00:57<01:37,  8.65it/s]Saving model checkpoint to ../models\\checkpoint-423\n",
      "Configuration saved in ../models\\checkpoint-423\\config.json\n"
     ]
    },
    {
     "name": "stdout",
     "output_type": "stream",
     "text": [
      "{'eval_loss': 0.20953649282455444, 'eval_precision': 0.5416098226466576, 'eval_recall': 0.6117103235747303, 'eval_f1': 0.5745296671490594, 'eval_accuracy': 0.9450027407272062, 'eval_runtime': 4.4916, 'eval_samples_per_second': 125.789, 'eval_steps_per_second': 31.614, 'epoch': 1.0}\n"
     ]
    },
    {
     "name": "stderr",
     "output_type": "stream",
     "text": [
      "Model weights saved in ../models\\checkpoint-423\\pytorch_model.bin\n",
      "c:\\Softwares\\Research\\envs\\sci_rec\\lib\\site-packages\\transformers\\models\\deberta\\modeling_deberta.py:679: UserWarning: To copy construct from a tensor, it is recommended to use sourceTensor.clone().detach() or sourceTensor.clone().detach().requires_grad_(True), rather than torch.tensor(sourceTensor).\n",
      "  query_layer = query_layer / torch.tensor(scale, dtype=query_layer.dtype)\n",
      "c:\\Softwares\\Research\\envs\\sci_rec\\lib\\site-packages\\transformers\\models\\deberta\\modeling_deberta.py:745: UserWarning: To copy construct from a tensor, it is recommended to use sourceTensor.clone().detach() or sourceTensor.clone().detach().requires_grad_(True), rather than torch.tensor(sourceTensor).\n",
      "  p2c_att = torch.matmul(key_layer, torch.tensor(pos_query_layer.transpose(-1, -2), dtype=key_layer.dtype))\n",
      " 40%|███▉      | 502/1269 [01:14<01:30,  8.45it/s]"
     ]
    },
    {
     "name": "stdout",
     "output_type": "stream",
     "text": [
      "{'loss': 0.6066, 'learning_rate': 5e-05, 'epoch': 1.18}\n"
     ]
    },
    {
     "name": "stderr",
     "output_type": "stream",
     "text": [
      " 67%|██████▋   | 846/1269 [01:54<00:47,  8.86it/s]***** Running Evaluation *****\n",
      "  Num examples = 565\n",
      "  Batch size = 4\n",
      "                                                  \n",
      " 67%|██████▋   | 846/1269 [01:59<00:47,  8.86it/s]Saving model checkpoint to ../models\\checkpoint-846\n",
      "Configuration saved in ../models\\checkpoint-846\\config.json\n"
     ]
    },
    {
     "name": "stdout",
     "output_type": "stream",
     "text": [
      "{'eval_loss': 0.20206943154335022, 'eval_precision': 0.6113744075829384, 'eval_recall': 0.7950693374422187, 'eval_f1': 0.6912257200267917, 'eval_accuracy': 0.9529813021499483, 'eval_runtime': 4.5026, 'eval_samples_per_second': 125.483, 'eval_steps_per_second': 31.537, 'epoch': 2.0}\n"
     ]
    },
    {
     "name": "stderr",
     "output_type": "stream",
     "text": [
      "Model weights saved in ../models\\checkpoint-846\\pytorch_model.bin\n",
      "c:\\Softwares\\Research\\envs\\sci_rec\\lib\\site-packages\\transformers\\models\\deberta\\modeling_deberta.py:679: UserWarning: To copy construct from a tensor, it is recommended to use sourceTensor.clone().detach() or sourceTensor.clone().detach().requires_grad_(True), rather than torch.tensor(sourceTensor).\n",
      "  query_layer = query_layer / torch.tensor(scale, dtype=query_layer.dtype)\n",
      "c:\\Softwares\\Research\\envs\\sci_rec\\lib\\site-packages\\transformers\\models\\deberta\\modeling_deberta.py:745: UserWarning: To copy construct from a tensor, it is recommended to use sourceTensor.clone().detach() or sourceTensor.clone().detach().requires_grad_(True), rather than torch.tensor(sourceTensor).\n",
      "  p2c_att = torch.matmul(key_layer, torch.tensor(pos_query_layer.transpose(-1, -2), dtype=key_layer.dtype))\n",
      " 79%|███████▉  | 1001/1269 [02:22<00:33,  7.92it/s]"
     ]
    },
    {
     "name": "stdout",
     "output_type": "stream",
     "text": [
      "{'loss': 0.1583, 'learning_rate': 1.7490247074122236e-05, 'epoch': 2.36}\n"
     ]
    },
    {
     "name": "stderr",
     "output_type": "stream",
     "text": [
      "100%|██████████| 1269/1269 [02:53<00:00,  8.42it/s]***** Running Evaluation *****\n",
      "  Num examples = 565\n",
      "  Batch size = 4\n",
      "                                                   \n",
      "100%|██████████| 1269/1269 [02:58<00:00,  8.42it/s]Saving model checkpoint to ../models\\checkpoint-1269\n",
      "Configuration saved in ../models\\checkpoint-1269\\config.json\n"
     ]
    },
    {
     "name": "stdout",
     "output_type": "stream",
     "text": [
      "{'eval_loss': 0.1610189825296402, 'eval_precision': 0.747093023255814, 'eval_recall': 0.7919876733436055, 'eval_f1': 0.768885564697083, 'eval_accuracy': 0.9666849381813752, 'eval_runtime': 4.4792, 'eval_samples_per_second': 126.138, 'eval_steps_per_second': 31.702, 'epoch': 3.0}\n"
     ]
    },
    {
     "name": "stderr",
     "output_type": "stream",
     "text": [
      "Model weights saved in ../models\\checkpoint-1269\\pytorch_model.bin\n",
      "\n",
      "\n",
      "Training completed. Do not forget to share your model on huggingface.co/models =)\n",
      "\n",
      "\n",
      "100%|██████████| 1269/1269 [03:03<00:00,  6.92it/s]"
     ]
    },
    {
     "name": "stdout",
     "output_type": "stream",
     "text": [
      "{'train_runtime': 183.3336, 'train_samples_per_second': 13.844, 'train_steps_per_second': 6.922, 'train_loss': 0.31631476941119974, 'epoch': 3.0}\n"
     ]
    },
    {
     "name": "stderr",
     "output_type": "stream",
     "text": [
      "\n"
     ]
    },
    {
     "data": {
      "text/plain": [
       "TrainOutput(global_step=1269, training_loss=0.31631476941119974, metrics={'train_runtime': 183.3336, 'train_samples_per_second': 13.844, 'train_steps_per_second': 6.922, 'train_loss': 0.31631476941119974, 'epoch': 3.0})"
      ]
     },
     "execution_count": 18,
     "metadata": {},
     "output_type": "execute_result"
    }
   ],
   "source": [
    "from transformers import AutoModelForTokenClassification, Trainer, TrainingArguments\n",
    "\n",
    "training_args = TrainingArguments(\n",
    "    output_dir='../models',          # output directory\n",
    "    num_train_epochs=3,              # total number of training epochs\n",
    "    per_device_train_batch_size=2,  # batch size per device during training\n",
    "    per_device_eval_batch_size=4,   # batch size for evaluation\n",
    "    warmup_steps=500,                # number of warmup steps for learning rate scheduler\n",
    "    weight_decay=0.01,               # strength of weight decay\n",
    "    logging_dir='../models/logs',            # directory for storing logs                               logging_steps=10,\n",
    "    save_strategy='epoch',\n",
    "    evaluation_strategy='epoch'\n",
    ")\n",
    "\n",
    "trainer = Trainer(\n",
    "    model=model,                         # the instantiated 🤗 Transformers model to be trained\n",
    "    args=training_args,\n",
    "    data_collator=data_collator,\n",
    "    compute_metrics=compute_metrics,     # training arguments, defined above\n",
    "    train_dataset=train_dataset,         # training dataset\n",
    "    eval_dataset=val_dataset             # evaluation dataset\n",
    ")\n",
    "\n",
    "trainer.train()"
   ]
  },
  {
   "cell_type": "code",
   "execution_count": 19,
   "metadata": {},
   "outputs": [
    {
     "name": "stderr",
     "output_type": "stream",
     "text": [
      "loading configuration file ../models/checkpoint-1269/config.json\n",
      "Model config DebertaConfig {\n",
      "  \"_name_or_path\": \"../models/checkpoint-1269/\",\n",
      "  \"architectures\": [\n",
      "    \"DebertaForTokenClassification\"\n",
      "  ],\n",
      "  \"attention_probs_dropout_prob\": 0.1,\n",
      "  \"hidden_act\": \"gelu\",\n",
      "  \"hidden_dropout_prob\": 0.1,\n",
      "  \"hidden_size\": 768,\n",
      "  \"id2label\": {\n",
      "    \"0\": \"O\",\n",
      "    \"1\": \"B-DatasetName\",\n",
      "    \"2\": \"I-DatasetName\",\n",
      "    \"3\": \"B-HyperparameterName\",\n",
      "    \"4\": \"I-HyperparameterName\",\n",
      "    \"5\": \"B-HyperparameterValue\",\n",
      "    \"6\": \"I-HyperparameterValue\",\n",
      "    \"7\": \"B-MethodName\",\n",
      "    \"8\": \"I-MethodName\",\n",
      "    \"9\": \"B-MetricName\",\n",
      "    \"10\": \"I-MetricName\",\n",
      "    \"11\": \"B-MetricValue\",\n",
      "    \"12\": \"I-MetricValue\",\n",
      "    \"13\": \"B-TaskName\",\n",
      "    \"14\": \"I-TaskName\"\n",
      "  },\n",
      "  \"initializer_range\": 0.02,\n",
      "  \"intermediate_size\": 3072,\n",
      "  \"label2id\": {\n",
      "    \"B-DatasetName\": 1,\n",
      "    \"B-HyperparameterName\": 3,\n",
      "    \"B-HyperparameterValue\": 5,\n",
      "    \"B-MethodName\": 7,\n",
      "    \"B-MetricName\": 9,\n",
      "    \"B-MetricValue\": 11,\n",
      "    \"B-TaskName\": 13,\n",
      "    \"I-DatasetName\": 2,\n",
      "    \"I-HyperparameterName\": 4,\n",
      "    \"I-HyperparameterValue\": 6,\n",
      "    \"I-MethodName\": 8,\n",
      "    \"I-MetricName\": 10,\n",
      "    \"I-MetricValue\": 12,\n",
      "    \"I-TaskName\": 14,\n",
      "    \"O\": 0\n",
      "  },\n",
      "  \"layer_norm_eps\": 1e-07,\n",
      "  \"max_position_embeddings\": 512,\n",
      "  \"max_relative_positions\": -1,\n",
      "  \"model_type\": \"deberta\",\n",
      "  \"num_attention_heads\": 12,\n",
      "  \"num_hidden_layers\": 12,\n",
      "  \"pad_token_id\": 0,\n",
      "  \"pooler_dropout\": 0,\n",
      "  \"pooler_hidden_act\": \"gelu\",\n",
      "  \"pooler_hidden_size\": 768,\n",
      "  \"pos_att_type\": [\n",
      "    \"c2p\",\n",
      "    \"p2c\"\n",
      "  ],\n",
      "  \"position_biased_input\": false,\n",
      "  \"relative_attention\": true,\n",
      "  \"torch_dtype\": \"float32\",\n",
      "  \"transformers_version\": \"4.23.1\",\n",
      "  \"type_vocab_size\": 0,\n",
      "  \"vocab_size\": 50265\n",
      "}\n",
      "\n",
      "loading weights file ../models/checkpoint-1269/pytorch_model.bin\n",
      "All model checkpoint weights were used when initializing DebertaForTokenClassification.\n",
      "\n",
      "All the weights of DebertaForTokenClassification were initialized from the model checkpoint at ../models/checkpoint-1269/.\n",
      "If your task is similar to the task the model of the checkpoint was trained on, you can already use DebertaForTokenClassification for predictions without further training.\n"
     ]
    }
   ],
   "source": [
    "from transformers import AutoModelForTokenClassification\n",
    "#tokenizer.save_pretrained()\n",
    "saved_ckpt = \"../models/checkpoint-1269/\"\n",
    "saved_model = AutoModelForTokenClassification.from_pretrained(saved_ckpt)"
   ]
  },
  {
   "cell_type": "code",
   "execution_count": 20,
   "metadata": {},
   "outputs": [
    {
     "name": "stderr",
     "output_type": "stream",
     "text": [
      "loading file vocab.json from cache at C:\\Users\\Wizard/.cache\\huggingface\\hub\\models--KISTI-AI--scideberta-cs\\snapshots\\73da2e12270e1af3cf0330223dfa4c7263331a8b\\vocab.json\n",
      "loading file merges.txt from cache at None\n",
      "loading file tokenizer.json from cache at C:\\Users\\Wizard/.cache\\huggingface\\hub\\models--KISTI-AI--scideberta-cs\\snapshots\\73da2e12270e1af3cf0330223dfa4c7263331a8b\\tokenizer.json\n",
      "loading file added_tokens.json from cache at None\n",
      "loading file special_tokens_map.json from cache at C:\\Users\\Wizard/.cache\\huggingface\\hub\\models--KISTI-AI--scideberta-cs\\snapshots\\73da2e12270e1af3cf0330223dfa4c7263331a8b\\special_tokens_map.json\n",
      "loading file tokenizer_config.json from cache at C:\\Users\\Wizard/.cache\\huggingface\\hub\\models--KISTI-AI--scideberta-cs\\snapshots\\73da2e12270e1af3cf0330223dfa4c7263331a8b\\tokenizer_config.json\n"
     ]
    }
   ],
   "source": [
    "from transformers import AutoTokenizer\n",
    "\n",
    "tokenizer = AutoTokenizer.from_pretrained(\"KISTI-AI/scideberta-cs\", add_prefix_space=True)"
   ]
  },
  {
   "cell_type": "code",
   "execution_count": 21,
   "metadata": {},
   "outputs": [],
   "source": [
    "def test_output_model(test_data_file, test_output_file, tokenizer, saved_model):\n",
    "    with open(test_output_file, 'wt', encoding='utf-8') as w:\n",
    "        with open(test_data_file, 'rt', encoding='utf-8') as f:\n",
    "            for paragraph in f.read().split(\"\\n\"):\n",
    "                if paragraph == \"\":\n",
    "                    break\n",
    "                tokens = paragraph.split(' ')\n",
    "                test_encodings = tokenizer(tokens, is_split_into_words=True, truncation=True, return_tensors='pt')#,return_offsets_mapping=True)\n",
    "                #offset_mapp = test_encodings.offset_mapping\n",
    "                test_encodings.pop(\"token_type_ids\")\n",
    "                #test_encodings.pop(\"offset_mapping\")\n",
    "                outputs = saved_model(**test_encodings)\n",
    "\n",
    "                predictions = outputs.logits.argmax(dim=-1).squeeze()\n",
    "                    \n",
    "                prev_word_id = None\n",
    "                output_ner_tags = []\n",
    "                for i, word_id in enumerate(test_encodings.word_ids()):\n",
    "                    if word_id == None:\n",
    "                        #special token here\n",
    "                        pass\n",
    "                    else:\n",
    "                        if prev_word_id != word_id:\n",
    "                            curr_tag = saved_model.config.id2label[int(predictions[i])]\n",
    "                            if curr_tag.startswith(\"I\"):\n",
    "                                if word_id>=1 and output_ner_tags[word_id-1]==\"O\":\n",
    "                                    output_ner_tags[word_id-1] = \"B-\"+curr_tag.split(\"-\")[-1]\n",
    "                                elif word_id==0:\n",
    "                                    curr_tag = \"B-\"+curr_tag.split(\"-\")[-1]\n",
    "                            output_ner_tags.append(curr_tag)\n",
    "                            prev_word_id = word_id\n",
    "                for i in range(len(tokens)):\n",
    "                    if i>=len(output_ner_tags):\n",
    "                        w.write(tokens[i]+\"\\t\"+\"O\"+\"\\n\")\n",
    "                    else:\n",
    "                        w.write(tokens[i]+\"\\t\"+output_ner_tags[i]+\"\\n\")\n",
    "                w.write(\"\\n\")\n",
    "        \n"
   ]
  },
  {
   "cell_type": "code",
   "execution_count": 22,
   "metadata": {},
   "outputs": [
    {
     "name": "stderr",
     "output_type": "stream",
     "text": [
      "c:\\Softwares\\Research\\envs\\sci_rec\\lib\\site-packages\\transformers\\models\\deberta\\modeling_deberta.py:679: UserWarning: To copy construct from a tensor, it is recommended to use sourceTensor.clone().detach() or sourceTensor.clone().detach().requires_grad_(True), rather than torch.tensor(sourceTensor).\n",
      "  query_layer = query_layer / torch.tensor(scale, dtype=query_layer.dtype)\n",
      "c:\\Softwares\\Research\\envs\\sci_rec\\lib\\site-packages\\transformers\\models\\deberta\\modeling_deberta.py:745: UserWarning: To copy construct from a tensor, it is recommended to use sourceTensor.clone().detach() or sourceTensor.clone().detach().requires_grad_(True), rather than torch.tensor(sourceTensor).\n",
      "  p2c_att = torch.matmul(key_layer, torch.tensor(pos_query_layer.transpose(-1, -2), dtype=key_layer.dtype))\n"
     ]
    }
   ],
   "source": [
    "test_output_model(test_data_file=\"../data/test.txt\", test_output_file= \"../data/test-berta.conll\", tokenizer=tokenizer, saved_model=saved_model)"
   ]
  },
  {
   "cell_type": "code",
   "execution_count": null,
   "metadata": {},
   "outputs": [],
   "source": [
    "# ANLP SCINER TEST\n",
    "test_output_model(test_data_file=\"../data/anlp-sciner-test.txt\", test_output_file= \"../data/sciner-mysys1.conll\", tokenizer=tokenizer, saved_model=saved_model)"
   ]
  },
  {
   "cell_type": "code",
   "execution_count": 24,
   "metadata": {},
   "outputs": [],
   "source": [
    "test_output_model(test_data_file=\"../bert.txt\", test_output_file= \"../bert-mysys1.conll\", tokenizer=tokenizer, saved_model=saved_model)"
   ]
  },
  {
   "cell_type": "code",
   "execution_count": null,
   "metadata": {},
   "outputs": [],
   "source": [
    "# from transformers import pipeline, AutoModelForTokenClassification\n",
    "# # Named entity recognition pipeline, passing in a specific model and tokenizer\n",
    "# SCINER = pipeline('ner', model=saved_ckpt, tokenizer=tokenizer, aggregation_strategy='simple')"
   ]
  },
  {
   "cell_type": "code",
   "execution_count": null,
   "metadata": {},
   "outputs": [],
   "source": [
    "# test_data_file = \"./anlp-sciner-test.txt\"\n",
    "\n",
    "# with open(test_data_file, 'rt', encoding='utf-8') as f:\n",
    "#     paragraphs = f.read().split(\"\\n\")\n",
    "# output = SCINER(paragraphs)"
   ]
  },
  {
   "cell_type": "code",
   "execution_count": null,
   "metadata": {},
   "outputs": [],
   "source": [
    "# test_output = \"./test_ouput.conll\"\n",
    "# test_data_file = \"./anlp-sciner-test.txt\"\n",
    "\n",
    "# with open(test_output, 'wt', encoding='utf-8') as f:\n",
    "#     with open(test_data_file, 'rt', encoding='utf-8') as f:\n",
    "#         paragraphs = f.read().split(\"\\n\")\n",
    "#         for idx, pa in enumerate(paragraphs):\n",
    "#             print(output[idx])\n",
    "#             encoding = tokenizer.encode(pa)\n",
    "#             # toks = pa.split(\" \")\n",
    "#             # ners = ['O'] * len(toks)\n",
    "            \n",
    "            \n",
    "#             # for i,entities in enumerate(output[idx]):\n",
    "#             #     for j, word in enumerate(toks):\n",
    "#             #         st = entities['start']\n",
    "#             #         ed = entities['end']\n",
    "#             #         if ed != st:\n",
    "#             #             f\n",
    "#             # print(\":)\")\n",
    "#             # # for i, tok in enumerate(pa.split(\" \")):\n",
    "#             # #     print(tok)\n"
   ]
  },
  {
   "cell_type": "code",
   "execution_count": null,
   "metadata": {},
   "outputs": [],
   "source": [
    "# def postprocess(predictions, labels):\n",
    "#     predictions = predictions.detach().cpu().clone().numpy()\n",
    "#     labels = labels.detach().cpu().clone().numpy()\n",
    "\n",
    "#     # Remove ignored index (special tokens) and convert to labels\n",
    "#     true_labels = [[label_names[l] for l in label if l != -100] for label in labels]\n",
    "#     true_predictions = [\n",
    "#         [label_names[p] for (p, l) in zip(prediction, label) if l != -100]\n",
    "#         for prediction, label in zip(predictions, labels)\n",
    "#     ]\n",
    "#     return true_labels, true_predictions"
   ]
  },
  {
   "cell_type": "code",
   "execution_count": null,
   "metadata": {},
   "outputs": [],
   "source": [
    "# from torch.utils.data import DataLoader\n",
    "\n",
    "# train_dataloader = DataLoader(\n",
    "#     tokenized_datasets[\"train\"], shuffle=True, batch_size=8, collate_fn=data_collator\n",
    "# )\n",
    "# eval_dataloader = DataLoader(\n",
    "#     tokenized_datasets[\"validation\"], batch_size=8, collate_fn=data_collator\n",
    "# )"
   ]
  }
 ],
 "metadata": {
  "kernelspec": {
   "display_name": "Python 3.8.13 ('sci_rec')",
   "language": "python",
   "name": "python3"
  },
  "language_info": {
   "codemirror_mode": {
    "name": "ipython",
    "version": 3
   },
   "file_extension": ".py",
   "mimetype": "text/x-python",
   "name": "python",
   "nbconvert_exporter": "python",
   "pygments_lexer": "ipython3",
   "version": "3.8.13"
  },
  "vscode": {
   "interpreter": {
    "hash": "1cbb08b90e04e44b5c7499ad2a329c22401d8d7d067a3e012145c40491cbb542"
   }
  }
 },
 "nbformat": 4,
 "nbformat_minor": 2
}
